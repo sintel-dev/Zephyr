{
 "cells": [
  {
   "cell_type": "markdown",
   "id": "3674a18e",
   "metadata": {},
   "source": [
    "# Visualization\n",
    "\n",
    "In this tutorial, we will show you how to use Zephyr class to obtain intermediate results of the pipeline for visualization purposes during the fitting stage. To know more about pipelines and Zephyr class please refer to the modeling notebook. We also used a demo feature matrix, to know how you can create features, please refer to feature_engineering notebook.\n",
    "\n",
    "## Load the Feature Matrix\n",
    "\n",
    "Load the feature matrix which is the result of the `feature_engineering` notebook. For the purpose of this tutorial, we use a dummy feature matrix stored in the `data/` folder."
   ]
  },
  {
   "cell_type": "code",
   "execution_count": 1,
   "id": "d6f954db",
   "metadata": {},
   "outputs": [],
   "source": [
    "import pandas as pd\n",
    "\n",
    "feature_matrix = pd.read_csv('data/feature_matrix.csv')"
   ]
  },
  {
   "cell_type": "markdown",
   "id": "4ba7879c",
   "metadata": {},
   "source": [
    "## Prepare data\n",
    "\n",
    "Prepare the data for training by creating a `y` variable to hold the labels, imputing missing values, and normlizing the data. We then initialize a `Zephyr` instance, set our data, and split it into training and testing."
   ]
  },
  {
   "cell_type": "code",
   "execution_count": 2,
   "id": "23ec49dd",
   "metadata": {},
   "outputs": [
    {
     "name": "stderr",
     "output_type": "stream",
     "text": [
      "/Users/raymondpan/zephyr/Zephyr-repo/venv/lib/python3.8/site-packages/sklearn/impute/_base.py:555: UserWarning: Skipping features without any observed values: [ 1  2  6  7  9 10 15 16 17 18]. At least one non-missing value is needed for imputation with strategy='mean'.\n",
      "  warnings.warn(\n",
      "[GUIDE] STALE WARNING: \n",
      "\tPerforming step 2 from step -1 with set_feature_matrix.\n",
      "\tThis is a forward step via a set method.\n",
      "\tThe current step is -1.\n",
      "\tAll previous steps will be considered stale.\n",
      "[GUIDE] Successfully performed set_feature_matrix.\n",
      "\tYou can perform the next step by calling generate_train_test_split.\n",
      "[GUIDE] Successfully performed generate_train_test_split.\n",
      "\tYou can perform the next step by calling fit_pipeline.\n"
     ]
    },
    {
     "data": {
      "text/plain": [
       "(          0    1    2         3         4         5    6    7    8    9   ...  \\\n",
       " 10 -0.288675  0.0  0.0 -0.463185 -0.463185 -0.463185  0.0  0.0  0.0  0.0  ...   \n",
       " 5  -0.288675  0.0  0.0 -0.521570 -0.521570 -0.521570  0.0  0.0  0.0  0.0  ...   \n",
       " 3  -0.288675  0.0  0.0 -1.174466 -1.174466 -1.174466  0.0  0.0  0.0  0.0  ...   \n",
       " 11 -0.288675  0.0  0.0  2.064680  2.064680  2.064680  0.0  0.0  0.0  0.0  ...   \n",
       " 1  -0.288675  0.0  0.0  0.298409  0.298409  0.298409  0.0  0.0  0.0  0.0  ...   \n",
       " 9  -0.288675  0.0  0.0  0.658556  0.658556  0.658556  0.0  0.0  0.0  0.0  ...   \n",
       " 2  -0.288675  0.0  0.0 -0.527579 -0.527579 -0.527579  0.0  0.0  0.0  0.0  ...   \n",
       " 8  -0.288675  0.0  0.0 -0.650653 -0.650653 -0.650653  0.0  0.0  0.0  0.0  ...   \n",
       " 7  -0.288675  0.0  0.0  0.197664  0.197664  0.197664  0.0  0.0  0.0  0.0  ...   \n",
       " 4  -0.288675  0.0  0.0  0.002832  0.002832  0.002832  0.0  0.0  0.0  0.0  ...   \n",
       " \n",
       "      80        81        82        83   84   85        86        87   88   89  \n",
       " 10  0.0  3.464102 -0.288675 -0.288675  0.0  0.0 -1.080123  1.080123  0.0  0.0  \n",
       " 5   0.0 -0.288675 -0.288675 -0.288675  0.0  0.0  0.925820 -0.925820  0.0  0.0  \n",
       " 3   0.0 -0.288675 -0.288675 -0.288675  0.0  0.0  0.925820 -0.925820  0.0  0.0  \n",
       " 11  0.0 -0.288675  3.464102 -0.288675  0.0  0.0 -1.080123  1.080123  0.0  0.0  \n",
       " 1   0.0 -0.288675 -0.288675 -0.288675  0.0  0.0  0.925820 -0.925820  0.0  0.0  \n",
       " 9   0.0 -0.288675 -0.288675 -0.288675  0.0  0.0 -1.080123  1.080123  0.0  0.0  \n",
       " 2   0.0 -0.288675 -0.288675 -0.288675  0.0  0.0  0.925820 -0.925820  0.0  0.0  \n",
       " 8   0.0 -0.288675 -0.288675 -0.288675  0.0  0.0 -1.080123  1.080123  0.0  0.0  \n",
       " 7   0.0 -0.288675 -0.288675 -0.288675  0.0  0.0 -1.080123  1.080123  0.0  0.0  \n",
       " 4   0.0 -0.288675 -0.288675 -0.288675  0.0  0.0  0.925820 -0.925820  0.0  0.0  \n",
       " \n",
       " [10 rows x 90 columns],\n",
       "           0    1    2         3         4         5    6    7    8    9   ...  \\\n",
       " 6  -0.288675  0.0  0.0  1.946791  1.946791  1.946791  0.0  0.0  0.0  0.0  ...   \n",
       " 12 -0.288675  0.0  0.0 -0.650711 -0.650711 -0.650711  0.0  0.0  0.0  0.0  ...   \n",
       " 0   3.464102  0.0  0.0 -1.180770 -1.180770 -1.180770  0.0  0.0  0.0  0.0  ...   \n",
       " \n",
       "      80        81        82        83   84   85        86        87   88   89  \n",
       " 6   0.0 -0.288675 -0.288675 -0.288675  0.0  0.0  0.925820 -0.925820  0.0  0.0  \n",
       " 12  0.0 -0.288675 -0.288675  3.464102  0.0  0.0 -1.080123  1.080123  0.0  0.0  \n",
       " 0   0.0 -0.288675 -0.288675 -0.288675  0.0  0.0  0.925820 -0.925820  0.0  0.0  \n",
       " \n",
       " [3 rows x 90 columns],\n",
       " 10    False\n",
       " 5     False\n",
       " 3     False\n",
       " 11    False\n",
       " 1     False\n",
       " 9      True\n",
       " 2      True\n",
       " 8     False\n",
       " 7     False\n",
       " 4      True\n",
       " Name: label, dtype: bool,\n",
       " 6     False\n",
       " 12    False\n",
       " 0      True\n",
       " Name: label, dtype: bool)"
      ]
     },
     "execution_count": 2,
     "metadata": {},
     "output_type": "execute_result"
    }
   ],
   "source": [
    "from sklearn.impute import SimpleImputer\n",
    "from sklearn.preprocessing import StandardScaler\n",
    "from zephyr_ml import Zephyr\n",
    "\n",
    "# pop the target labels\n",
    "y = list(feature_matrix.pop('label'))\n",
    "X = feature_matrix.values\n",
    "\n",
    "# impute missing values\n",
    "imputer = SimpleImputer()\n",
    "X = imputer.fit_transform(X)\n",
    "\n",
    "# normalize the data\n",
    "scaler = StandardScaler()\n",
    "X = pd.DataFrame(scaler.fit_transform(X))\n",
    "\n",
    "zephyr = Zephyr()\n",
    "zephyr.set_feature_matrix(feature_matrix=X, labels = y)\n",
    "zephyr.generate_train_test_split(test_size=0.2, random_state=33)\n",
    "\n"
   ]
  },
  {
   "cell_type": "markdown",
   "id": "733a854b",
   "metadata": {},
   "source": [
    "## Select Model\n",
    "\n",
    "Select a model that has a `visual` block such as the `xgb_classifier` pipeline.\n",
    "\n",
    "The visual block in the pipeline json defines what are the intermediate results you want to capture and return during the fitting process. For example, in the `xgb` pipeline, we are interested to see what is the best threshold it found. In addition, we are interested to see the different scores obtained at each threshold.\n",
    "Then the block would look something like:\n",
    "\n",
    "```\n",
    "\"visual\": [\n",
    "    {\n",
    "        \"name\": \"threshold\",\n",
    "        \"variable\": \"zephyr_ml.primitives.postprocessing.FindThreshold#1.threshold\"\n",
    "    },\n",
    "    {\n",
    "        \"name\": \"scores\",\n",
    "        \"variable\": \"zephyr_ml.primitives.postprocessing.FindThreshold#1.scores\"\n",
    "    }\n",
    "]\n",
    "```\n",
    "\n",
    "Where we have a _name_ and a _variable_ defining the intermediate outputs. "
   ]
  },
  {
   "cell_type": "markdown",
   "id": "531d157d",
   "metadata": {},
   "source": [
    "## Visualize\n",
    "\n",
    "When training the pipeline using the `fit` function, you can specify `zephyr.fit_pipeline(.., visual=True)` to indicate you are interested in obtaining the intermediate outputs."
   ]
  },
  {
   "cell_type": "code",
   "execution_count": 3,
   "id": "683393df",
   "metadata": {},
   "outputs": [
    {
     "name": "stderr",
     "output_type": "stream",
     "text": [
      "[GUIDE] Successfully performed fit_pipeline.\n",
      "\tYou can perform the next step by calling predict or evaluate.\n"
     ]
    }
   ],
   "source": [
    "output = zephyr.fit_pipeline(pipeline = \"xgb_classifier\", visual=True)"
   ]
  },
  {
   "cell_type": "code",
   "execution_count": 4,
   "id": "13221b40",
   "metadata": {},
   "outputs": [
    {
     "data": {
      "text/plain": [
       "dict_keys(['threshold', 'scores'])"
      ]
     },
     "execution_count": 4,
     "metadata": {},
     "output_type": "execute_result"
    }
   ],
   "source": [
    "output.keys()"
   ]
  },
  {
   "cell_type": "markdown",
   "id": "d1672fc6",
   "metadata": {},
   "source": [
    "The output is a dictionary containing two values: `threshold`, and `scores`. Let's visualize these results."
   ]
  },
  {
   "cell_type": "code",
   "execution_count": 5,
   "id": "c7a88d5b",
   "metadata": {},
   "outputs": [
    {
     "data": {
      "image/png": "[encoded data removed]",
      "text/plain": [
       "<Figure size 640x480 with 1 Axes>"
      ]
     },
     "metadata": {},
     "output_type": "display_data"
    }
   ],
   "source": [
    "import matplotlib.pyplot as plt\n",
    "import numpy as np\n",
    "\n",
    "scores = output['scores']\n",
    "threshold = output['threshold']\n",
    "\n",
    "line = np.arange(0, 1.0, 0.01)\n",
    "\n",
    "%matplotlib inline\n",
    "plt.plot(line, scores)\n",
    "plt.axvline(threshold, color='r')\n",
    "plt.ylabel(\"f1 score\")\n",
    "plt.xlabel(\"threshold\")\n",
    "plt.title(f\"Best obtained threshold at {threshold}\")\n",
    "plt.show()"
   ]
  },
  {
   "cell_type": "code",
   "execution_count": null,
   "id": "aa0b487c",
   "metadata": {},
   "outputs": [],
   "source": []
  }
 ],
 "metadata": {
  "kernelspec": {
   "display_name": "venv",
   "language": "python",
   "name": "python3"
  },
  "language_info": {
   "codemirror_mode": {
    "name": "ipython",
    "version": 3
   },
   "file_extension": ".py",
   "mimetype": "text/x-python",
   "name": "python",
   "nbconvert_exporter": "python",
   "pygments_lexer": "ipython3",
   "version": "3.8.0"
  }
 },
 "nbformat": 4,
 "nbformat_minor": 5
}
