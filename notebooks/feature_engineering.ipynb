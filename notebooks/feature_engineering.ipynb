{
 "cells": [
  {
   "cell_type": "markdown",
   "id": "8ff6ceb0-9b28-45fa-86c4-c2a16df4a4fc",
   "metadata": {},
   "source": [
    "# Feature Engineering\n",
    "In this tutorial, we will show you how to use `zephyr_ml`'s `Zephyr` class to create EntitySets, generate label times, and do automated feature engineering. This tutorial assumes you have a folder with the mostly pre-processed data in seperate CSVs. If necessary, please update the steps and paths below.\n",
    "\n",
    "## 1) Create EntitySet\n",
    "zephyr_ml has strict assumptions about the data passed into its `create_entityset` method. It's the user's responsibility to apply the necessary pre-processing steps to get data into a format acceptable for zephyr_ml. \n",
    "\n",
    "For example, the demo PI data needs to be converted to a tabular format instead of a `tag` `value` format. The `turbine` column also needs too be renamed to `COD_ELEMENT` to match the rest of the data."
   ]
  },
  {
   "cell_type": "code",
   "execution_count": 1,
   "id": "4f11a97d",
   "metadata": {},
   "outputs": [
    {
     "data": {
      "text/html": [
       "<div>\n",
       "<style scoped>\n",
       "    .dataframe tbody tr th:only-of-type {\n",
       "        vertical-align: middle;\n",
       "    }\n",
       "\n",
       "    .dataframe tbody tr th {\n",
       "        vertical-align: top;\n",
       "    }\n",
       "\n",
       "    .dataframe thead th {\n",
       "        text-align: right;\n",
       "    }\n",
       "</style>\n",
       "<table border=\"1\" class=\"dataframe\">\n",
       "  <thead>\n",
       "    <tr style=\"text-align: right;\">\n",
       "      <th></th>\n",
       "      <th>time</th>\n",
       "      <th>turbine</th>\n",
       "      <th>tag</th>\n",
       "      <th>val</th>\n",
       "    </tr>\n",
       "  </thead>\n",
       "  <tbody>\n",
       "    <tr>\n",
       "      <th>0</th>\n",
       "      <td>2022-01-02 13:21:01</td>\n",
       "      <td>0</td>\n",
       "      <td>T0.val1</td>\n",
       "      <td>9872.0</td>\n",
       "    </tr>\n",
       "    <tr>\n",
       "      <th>1</th>\n",
       "      <td>2022-01-02 13:21:01</td>\n",
       "      <td>0</td>\n",
       "      <td>T0.val2</td>\n",
       "      <td>10.0</td>\n",
       "    </tr>\n",
       "    <tr>\n",
       "      <th>2</th>\n",
       "      <td>2022-03-08 13:21:01</td>\n",
       "      <td>0</td>\n",
       "      <td>T0.val1</td>\n",
       "      <td>559.0</td>\n",
       "    </tr>\n",
       "    <tr>\n",
       "      <th>3</th>\n",
       "      <td>2022-03-08 13:21:01</td>\n",
       "      <td>0</td>\n",
       "      <td>T0.val2</td>\n",
       "      <td>-7.0</td>\n",
       "    </tr>\n",
       "  </tbody>\n",
       "</table>\n",
       "</div>"
      ],
      "text/plain": [
       "                  time  turbine      tag     val\n",
       "0  2022-01-02 13:21:01        0  T0.val1  9872.0\n",
       "1  2022-01-02 13:21:01        0  T0.val2    10.0\n",
       "2  2022-03-08 13:21:01        0  T0.val1   559.0\n",
       "3  2022-03-08 13:21:01        0  T0.val2    -7.0"
      ]
     },
     "execution_count": 1,
     "metadata": {},
     "output_type": "execute_result"
    }
   ],
   "source": [
    "import pandas as pd\n",
    "from os import path\n",
    "\n",
    "data_path = 'data'\n",
    "\n",
    "pidata_df = pd.read_csv(path.join(data_path, 'pidata.csv'))\n",
    "pidata_df"
   ]
  },
  {
   "cell_type": "code",
   "execution_count": 2,
   "id": "17cd61b9-096b-4359-93eb-b1c63b99e79d",
   "metadata": {},
   "outputs": [
    {
     "data": {
      "text/html": [
       "<div>\n",
       "<style scoped>\n",
       "    .dataframe tbody tr th:only-of-type {\n",
       "        vertical-align: middle;\n",
       "    }\n",
       "\n",
       "    .dataframe tbody tr th {\n",
       "        vertical-align: top;\n",
       "    }\n",
       "\n",
       "    .dataframe thead th {\n",
       "        text-align: right;\n",
       "    }\n",
       "</style>\n",
       "<table border=\"1\" class=\"dataframe\">\n",
       "  <thead>\n",
       "    <tr style=\"text-align: right;\">\n",
       "      <th>tag</th>\n",
       "      <th>time</th>\n",
       "      <th>COD_ELEMENT</th>\n",
       "      <th>val1</th>\n",
       "      <th>val2</th>\n",
       "    </tr>\n",
       "  </thead>\n",
       "  <tbody>\n",
       "    <tr>\n",
       "      <th>0</th>\n",
       "      <td>2022-01-02 13:21:01</td>\n",
       "      <td>0</td>\n",
       "      <td>9872.0</td>\n",
       "      <td>10.0</td>\n",
       "    </tr>\n",
       "    <tr>\n",
       "      <th>1</th>\n",
       "      <td>2022-03-08 13:21:01</td>\n",
       "      <td>0</td>\n",
       "      <td>559.0</td>\n",
       "      <td>-7.0</td>\n",
       "    </tr>\n",
       "  </tbody>\n",
       "</table>\n",
       "</div>"
      ],
      "text/plain": [
       "tag                 time  COD_ELEMENT    val1  val2\n",
       "0    2022-01-02 13:21:01            0  9872.0  10.0\n",
       "1    2022-03-08 13:21:01            0   559.0  -7.0"
      ]
     },
     "execution_count": 2,
     "metadata": {},
     "output_type": "execute_result"
    }
   ],
   "source": [
    "pidata_df['tag'] = pidata_df['tag'].apply(lambda x: '.'.join(x.split('.')[1:]))\n",
    "pidata_df = pd.pivot_table(pidata_df, index=['time', 'turbine'],\n",
    "                            columns=['tag']).droplevel(0, axis=1).reset_index()\n",
    "pidata_df.rename(columns={'turbine': 'COD_ELEMENT'}, inplace=True)\n",
    "pidata_df"
   ]
  },
  {
   "cell_type": "markdown",
   "id": "d6828251",
   "metadata": {},
   "source": [
    "Once the necessary preprocessing steps have been done, the dataframes can be passed to the respective create EntitySet function. The keys used for the data dictionary are significant, and must match the ones used in this example. Default column names and entity keywork arguments can be overwritten by passing in a dictionary mapping entity names to keyword arguments for adding the dataframe to the EntitySet."
   ]
  },
  {
   "cell_type": "code",
   "execution_count": 3,
   "id": "7bfd56a7",
   "metadata": {},
   "outputs": [
    {
     "name": "stderr",
     "output_type": "stream",
     "text": [
      "[GUIDE] Successfully performed generate_entityset.\n",
      "\tYou can perform the next step by calling generate_label_times.\n"
     ]
    },
    {
     "data": {
      "text/plain": [
       "Entityset: pidata\n",
       "  DataFrames:\n",
       "    turbines [Rows: 1, Columns: 10]\n",
       "    alarms [Rows: 2, Columns: 10]\n",
       "    stoppages [Rows: 2, Columns: 16]\n",
       "    work_orders [Rows: 2, Columns: 20]\n",
       "    notifications [Rows: 2, Columns: 15]\n",
       "    pidata [Rows: 2, Columns: 5]\n",
       "  Relationships:\n",
       "    alarms.COD_ELEMENT -> turbines.COD_ELEMENT\n",
       "    stoppages.COD_ELEMENT -> turbines.COD_ELEMENT\n",
       "    work_orders.COD_ELEMENT -> turbines.COD_ELEMENT\n",
       "    pidata.COD_ELEMENT -> turbines.COD_ELEMENT\n",
       "    notifications.COD_ORDER -> work_orders.COD_ORDER"
      ]
     },
     "execution_count": 3,
     "metadata": {},
     "output_type": "execute_result"
    }
   ],
   "source": [
    "from zephyr_ml import Zephyr\n",
    "\n",
    "zephyr = Zephyr()\n",
    "data = {\n",
    "    'turbines': pd.read_csv(path.join(data_path, 'turbines.csv')),\n",
    "    'alarms': pd.read_csv(path.join(data_path, 'alarms.csv')),\n",
    "    'stoppages': pd.read_csv(path.join(data_path, 'stoppages.csv')),\n",
    "    'work_orders': pd.read_csv(path.join(data_path, 'work_orders.csv')),\n",
    "    'notifications': pd.read_csv(path.join(data_path, 'notifications.csv')),\n",
    "    'pidata': pidata_df\n",
    "}\n",
    "\n",
    "pidata_es = zephyr.generate_entityset(dfs = data, es_type = \"pidata\")\n",
    "pidata_es"
   ]
  },
  {
   "cell_type": "markdown",
   "id": "ffe532a6",
   "metadata": {},
   "source": [
    "To visualize the entityset and its relationships, use `.plot` functionality."
   ]
  },
  {
   "cell_type": "code",
   "execution_count": 4,
   "id": "cc618e40",
   "metadata": {},
   "outputs": [],
   "source": [
    "# pidata_es.plot('viz.png')"
   ]
  },
  {
   "cell_type": "markdown",
   "id": "4746e7e1",
   "metadata": {},
   "source": [
    "## 2) Generating Labels and Cutoff Times\n",
    "The `DataLabeler` is used to generate labels and label times for an EntitySet. It is instantiated with a labeling function, and labels can be generated by calling the `generate_label_times` method. The list of available labeling functions can be found using `zephyr_ml.labeling.get_labeling_functions()`. Custom labeling functions can also be created, provided they follow the expected format of returning the deserialized dataframe, the actual labeling function to use for the dataslice, and additional metadata."
   ]
  },
  {
   "cell_type": "code",
   "execution_count": 5,
   "id": "f00c300f",
   "metadata": {},
   "outputs": [
    {
     "data": {
      "text/plain": [
       "{'brake_pad_presence': {'obj': <function zephyr_ml.labeling.labeling_functions.brake_pad_presence.brake_pad_presence(es, column_map={})>,\n",
       "  'desc': 'Determines if brake pad present in stoppages.'},\n",
       " 'converter_replacement_presence': {'obj': <function zephyr_ml.labeling.labeling_functions.converter_replacement_presence.converter_replacement_presence(es, column_map={})>,\n",
       "  'desc': 'Calculates the converter replacement presence.'},\n",
       " 'gearbox_replace_presence': {'obj': <function zephyr_ml.labeling.labeling_functions.planet_bearing.gearbox_replace_presence(es, column_map={})>,\n",
       "  'desc': 'Determines if gearbox replacement/exchange is present in stoppages.'},\n",
       " 'total_power_loss': {'obj': <function zephyr_ml.labeling.labeling_functions.total_power_loss.total_power_loss(es, column_map={})>,\n",
       "  'desc': 'Calculates the total power loss over the data slice.'}}"
      ]
     },
     "execution_count": 5,
     "metadata": {},
     "output_type": "execute_result"
    }
   ],
   "source": [
    "zephyr.GET_LABELING_FUNCTIONS()"
   ]
  },
  {
   "cell_type": "code",
   "execution_count": 6,
   "id": "e0ee16eb",
   "metadata": {},
   "outputs": [
    {
     "name": "stderr",
     "output_type": "stream",
     "text": [
      "[GUIDE] Successfully performed generate_label_times.\n",
      "\tYou can perform the next step by calling generate_feature_matrix.\n"
     ]
    },
    {
     "data": {
      "text/html": [
       "<div>\n",
       "<style scoped>\n",
       "    .dataframe tbody tr th:only-of-type {\n",
       "        vertical-align: middle;\n",
       "    }\n",
       "\n",
       "    .dataframe tbody tr th {\n",
       "        vertical-align: top;\n",
       "    }\n",
       "\n",
       "    .dataframe thead th {\n",
       "        text-align: right;\n",
       "    }\n",
       "</style>\n",
       "<table border=\"1\" class=\"dataframe\">\n",
       "  <thead>\n",
       "    <tr style=\"text-align: right;\">\n",
       "      <th></th>\n",
       "      <th>COD_ELEMENT</th>\n",
       "      <th>time</th>\n",
       "      <th>label</th>\n",
       "    </tr>\n",
       "  </thead>\n",
       "  <tbody>\n",
       "    <tr>\n",
       "      <th>0</th>\n",
       "      <td>0</td>\n",
       "      <td>2022-01-01</td>\n",
       "      <td>45801.0</td>\n",
       "    </tr>\n",
       "  </tbody>\n",
       "</table>\n",
       "</div>"
      ],
      "text/plain": [
       "   COD_ELEMENT       time    label\n",
       "0            0 2022-01-01  45801.0"
      ]
     },
     "execution_count": 6,
     "metadata": {},
     "output_type": "execute_result"
    }
   ],
   "source": [
    "label_times, _ = zephyr.generate_label_times(\"total_power_loss\")\n",
    "label_times"
   ]
  },
  {
   "cell_type": "markdown",
   "id": "e26ac0cb",
   "metadata": {},
   "source": [
    "## 3) Feature Engineering with SigPro and Featuretools\n",
    "\n",
    "The feature engineering process in zephyr_ml combines signal processing with SigPro and automated feature generation with Featuretools into a single method, `generate_feature_matrix`. This unified approach allows for efficient processing of both time series signals and relational data."
   ]
  },
  {
   "cell_type": "markdown",
   "id": "a9a3f3a6",
   "metadata": {},
   "source": [
    "### Signal Processing with SigPro\n",
    "To perform signal processing in the `generate_feature_matrix` method, we pass in the following parameters:\n",
    "- `signal_aggregations`: the specifications of the aggregation primitives\n",
    "- `signal_transformations`: the specifications of the transformation priimitives\n",
    "- `signal_dataframe_name`: the name of the dataframe whether `pidata` or `scada`.\n",
    "- `signal_column`: the name of the signal column in the dataframe.\n",
    "- `signal_window_size`: the size of the bin we want to process the signals over, e.g. each month.\n",
    "- `signal_replace_dataframe`: an indicator whether we want to replace the current dataframe or add it as a new one.\n",
    "\n",
    "To look at some of the primitives readily available, we use `get_primitives` function from `SigPro`."
   ]
  },
  {
   "cell_type": "code",
   "execution_count": 7,
   "id": "5dfdd53e",
   "metadata": {},
   "outputs": [
    {
     "data": {
      "text/plain": [
       "['sigpro.SigPro',\n",
       " 'sigpro.aggregations.amplitude.statistical.crest_factor',\n",
       " 'sigpro.aggregations.amplitude.statistical.kurtosis',\n",
       " 'sigpro.aggregations.amplitude.statistical.mean',\n",
       " 'sigpro.aggregations.amplitude.statistical.rms',\n",
       " 'sigpro.aggregations.amplitude.statistical.skew',\n",
       " 'sigpro.aggregations.amplitude.statistical.std',\n",
       " 'sigpro.aggregations.amplitude.statistical.var',\n",
       " 'sigpro.aggregations.frequency.band.band_mean',\n",
       " 'sigpro.transformations.amplitude.identity.identity',\n",
       " 'sigpro.transformations.amplitude.spectrum.power_spectrum',\n",
       " 'sigpro.transformations.frequency.band.frequency_band',\n",
       " 'sigpro.transformations.frequency.fft.fft',\n",
       " 'sigpro.transformations.frequency.fft.fft_real',\n",
       " 'sigpro.transformations.frequency.fftfreq.fft_freq',\n",
       " 'sigpro.transformations.frequency_time.stft.stft',\n",
       " 'sigpro.transformations.frequency_time.stft.stft_real']"
      ]
     },
     "execution_count": 7,
     "metadata": {},
     "output_type": "execute_result"
    }
   ],
   "source": [
    "from sigpro import get_primitives\n",
    "\n",
    "get_primitives()"
   ]
  },
  {
   "cell_type": "markdown",
   "id": "586cb217",
   "metadata": {},
   "source": [
    "Suppose we are interested in finding the amplitude mean for each month of readings in the signal. We first specify the `name` and respective `primitive` we want to apply for both `transformations` and `aggregations`.\n",
    "\n",
    "In this case, we are interested in an identity transformation and mean aggregation."
   ]
  },
  {
   "cell_type": "code",
   "execution_count": 8,
   "id": "bd00c9fc",
   "metadata": {},
   "outputs": [],
   "source": [
    "signal_aggregations = [{\n",
    "    \"name\":\"mean\",\n",
    "    \"primitive\":\"sigpro.aggregations.amplitude.statistical.mean\"\n",
    "}]\n",
    "\n",
    "signal_transformations = [{\n",
    "    \"name\":\"fft\",\n",
    "    \"primitive\":\"sigpro.transformations.amplitude.identity.identity\"\n",
    "}]"
   ]
  },
  {
   "cell_type": "markdown",
   "id": "2520a27e",
   "metadata": {},
   "source": [
    "### Automated Feature Generation with Featuretools\n",
    "The `generate_feature_matrix` method also leverages Featuretools to automatically generate features from the previously generated EntitySet and use label times as cutoff times, ensuring temporal validity. For example, we can set interesting categorical values in our EntitySet and use them to generate aggregation features grouped by those interesting values. We can also set which primitives we want to use and control which columns and entities those primitives can be applied to. "
   ]
  },
  {
   "cell_type": "code",
   "execution_count": 9,
   "id": "2a14d02c",
   "metadata": {},
   "outputs": [
    {
     "name": "stderr",
     "output_type": "stream",
     "text": [
      "/Users/raymondpan/zephyr/Zephyr-repo/venv/lib/python3.8/site-packages/numpy/core/fromnumeric.py:3464: RuntimeWarning: Mean of empty slice.\n",
      "  return _methods._mean(a, axis=axis, dtype=dtype,\n",
      "/Users/raymondpan/zephyr/Zephyr-repo/venv/lib/python3.8/site-packages/numpy/core/_methods.py:192: RuntimeWarning: invalid value encountered in scalar divide\n",
      "  ret = ret.dtype.type(ret / rcount)\n",
      "[GUIDE] Successfully performed generate_feature_matrix.\n",
      "\tYou can perform the next step by calling generate_train_test_split.\n"
     ]
    }
   ],
   "source": [
    "feature_matrix, features, processed_es =zephyr.generate_feature_matrix(\n",
    "    # signal processing parameters\n",
    "    signal_dataframe_name = \"pidata\",\n",
    "    signal_column = \"val1\",\n",
    "    signal_transformations = signal_transformations,\n",
    "    signal_aggregations = signal_aggregations,\n",
    "    signal_window_size = \"1m\",\n",
    "    signal_replace_dataframe = False,\n",
    "    \n",
    "    # feature generation parameters\n",
    "    target_dataframe_name = \"turbines\", \n",
    "    cutoff_time_in_index=True,\n",
    "    where_primitives=['count', 'sum'],\n",
    "    agg_primitives=['count', 'min', 'max', 'sum'],\n",
    "    trans_primitives=['num_words'],\n",
    "    ignore_dataframes=['notifications', 'work_orders'],\n",
    "    add_interesting_values = True,\n",
    "    interesting_dataframe_name = \"alarms\",\n",
    "    interesting_values = {'DES_NAME': ['Alarm1', 'Alarm2']}\n",
    ")"
   ]
  },
  {
   "cell_type": "markdown",
   "id": "7a77caa2",
   "metadata": {},
   "source": [
    "`generate_feature_matrix` returns three outputs: `feature_matrix`, `features`, and `processed_es`. `processed_es` is a deepcopy of our Zephyr instance's original generated entityset, containing the signal processing and interesting values. `feature_matrix` is the generated feature matrix and `features` is a list of the generated features. "
   ]
  },
  {
   "cell_type": "markdown",
   "id": "d8474fa4",
   "metadata": {},
   "source": []
  },
  {
   "cell_type": "markdown",
   "id": "3950f656",
   "metadata": {},
   "source": [
    "Based on our original observations of `val1`, we now have `pidata_processed` with an entry for each month and the respective mean value of observations we see in that month.\n",
    "\n",
    "**Note**: in the months we don't have observations, the value becomes null."
   ]
  },
  {
   "cell_type": "code",
   "execution_count": 10,
   "id": "bea94368",
   "metadata": {},
   "outputs": [
    {
     "data": {
      "text/html": [
       "<div>\n",
       "<style scoped>\n",
       "    .dataframe tbody tr th:only-of-type {\n",
       "        vertical-align: middle;\n",
       "    }\n",
       "\n",
       "    .dataframe tbody tr th {\n",
       "        vertical-align: top;\n",
       "    }\n",
       "\n",
       "    .dataframe thead th {\n",
       "        text-align: right;\n",
       "    }\n",
       "</style>\n",
       "<table border=\"1\" class=\"dataframe\">\n",
       "  <thead>\n",
       "    <tr style=\"text-align: right;\">\n",
       "      <th></th>\n",
       "      <th>_index</th>\n",
       "      <th>COD_ELEMENT</th>\n",
       "      <th>time</th>\n",
       "      <th>fft.mean.mean_value</th>\n",
       "    </tr>\n",
       "  </thead>\n",
       "  <tbody>\n",
       "    <tr>\n",
       "      <th>0</th>\n",
       "      <td>0</td>\n",
       "      <td>0</td>\n",
       "      <td>2022-01-31</td>\n",
       "      <td>9872</td>\n",
       "    </tr>\n",
       "    <tr>\n",
       "      <th>1</th>\n",
       "      <td>1</td>\n",
       "      <td>0</td>\n",
       "      <td>2022-02-28</td>\n",
       "      <td>&lt;NA&gt;</td>\n",
       "    </tr>\n",
       "    <tr>\n",
       "      <th>2</th>\n",
       "      <td>2</td>\n",
       "      <td>0</td>\n",
       "      <td>2022-03-31</td>\n",
       "      <td>559</td>\n",
       "    </tr>\n",
       "  </tbody>\n",
       "</table>\n",
       "</div>"
      ],
      "text/plain": [
       "   _index COD_ELEMENT       time  fft.mean.mean_value\n",
       "0       0           0 2022-01-31                 9872\n",
       "1       1           0 2022-02-28                 <NA>\n",
       "2       2           0 2022-03-31                  559"
      ]
     },
     "execution_count": 10,
     "metadata": {},
     "output_type": "execute_result"
    }
   ],
   "source": [
    "processed_es[\"pidata_processed\"]"
   ]
  },
  {
   "cell_type": "code",
   "execution_count": 11,
   "id": "be788aaf",
   "metadata": {},
   "outputs": [
    {
     "data": {
      "text/plain": [
       "[<Feature: TURBINE_PI_ID>,\n",
       " <Feature: TURBINE_LOCAL_ID>,\n",
       " <Feature: TURBINE_SAP_COD>,\n",
       " <Feature: DES_CORE_ELEMENT>,\n",
       " <Feature: SITE>,\n",
       " <Feature: DES_CORE_PLANT>,\n",
       " <Feature: COD_PLANT_SAP>,\n",
       " <Feature: PI_COLLECTOR_SITE_NAME>,\n",
       " <Feature: PI_LOCAL_SITE_NAME>,\n",
       " <Feature: COUNT(alarms)>,\n",
       " <Feature: MAX(alarms.IND_DURATION)>,\n",
       " <Feature: MIN(alarms.IND_DURATION)>,\n",
       " <Feature: SUM(alarms.IND_DURATION)>,\n",
       " <Feature: COUNT(stoppages)>,\n",
       " <Feature: MAX(stoppages.COD_WO)>,\n",
       " <Feature: MAX(stoppages.IND_DURATION)>,\n",
       " <Feature: MAX(stoppages.IND_LOST_GEN)>,\n",
       " <Feature: MIN(stoppages.COD_WO)>,\n",
       " <Feature: MIN(stoppages.IND_DURATION)>,\n",
       " <Feature: MIN(stoppages.IND_LOST_GEN)>,\n",
       " <Feature: SUM(stoppages.COD_WO)>,\n",
       " <Feature: SUM(stoppages.IND_DURATION)>,\n",
       " <Feature: SUM(stoppages.IND_LOST_GEN)>,\n",
       " <Feature: COUNT(pidata)>,\n",
       " <Feature: MAX(pidata.val1)>,\n",
       " <Feature: MAX(pidata.val2)>,\n",
       " <Feature: MIN(pidata.val1)>,\n",
       " <Feature: MIN(pidata.val2)>,\n",
       " <Feature: SUM(pidata.val1)>,\n",
       " <Feature: SUM(pidata.val2)>,\n",
       " <Feature: COUNT(pidata_processed)>,\n",
       " <Feature: MAX(pidata_processed.fft.mean.mean_value)>,\n",
       " <Feature: MIN(pidata_processed.fft.mean.mean_value)>,\n",
       " <Feature: SUM(pidata_processed.fft.mean.mean_value)>,\n",
       " <Feature: COUNT(alarms WHERE DES_NAME = Alarm1)>,\n",
       " <Feature: COUNT(alarms WHERE DES_NAME = Alarm2)>,\n",
       " <Feature: SUM(alarms.IND_DURATION WHERE DES_NAME = Alarm1)>,\n",
       " <Feature: SUM(alarms.IND_DURATION WHERE DES_NAME = Alarm2)>,\n",
       " <Feature: MAX(stoppages.NUM_WORDS(DES_COMMENTS))>,\n",
       " <Feature: MAX(stoppages.NUM_WORDS(DES_DESCRIPTION))>,\n",
       " <Feature: MAX(stoppages.NUM_WORDS(DES_WO_NAME))>,\n",
       " <Feature: MIN(stoppages.NUM_WORDS(DES_COMMENTS))>,\n",
       " <Feature: MIN(stoppages.NUM_WORDS(DES_DESCRIPTION))>,\n",
       " <Feature: MIN(stoppages.NUM_WORDS(DES_WO_NAME))>,\n",
       " <Feature: SUM(stoppages.NUM_WORDS(DES_COMMENTS))>,\n",
       " <Feature: SUM(stoppages.NUM_WORDS(DES_DESCRIPTION))>,\n",
       " <Feature: SUM(stoppages.NUM_WORDS(DES_WO_NAME))>]"
      ]
     },
     "execution_count": 11,
     "metadata": {},
     "output_type": "execute_result"
    }
   ],
   "source": [
    "features"
   ]
  },
  {
   "cell_type": "code",
   "execution_count": 12,
   "id": "d5b00ee9",
   "metadata": {},
   "outputs": [
    {
     "data": {
      "text/html": [
       "<div>\n",
       "<style scoped>\n",
       "    .dataframe tbody tr th:only-of-type {\n",
       "        vertical-align: middle;\n",
       "    }\n",
       "\n",
       "    .dataframe tbody tr th {\n",
       "        vertical-align: top;\n",
       "    }\n",
       "\n",
       "    .dataframe thead th {\n",
       "        text-align: right;\n",
       "    }\n",
       "</style>\n",
       "<table border=\"1\" class=\"dataframe\">\n",
       "  <thead>\n",
       "    <tr style=\"text-align: right;\">\n",
       "      <th></th>\n",
       "      <th></th>\n",
       "      <th>COUNT(alarms)</th>\n",
       "      <th>MAX(alarms.IND_DURATION)</th>\n",
       "      <th>MIN(alarms.IND_DURATION)</th>\n",
       "      <th>SUM(alarms.IND_DURATION)</th>\n",
       "      <th>COUNT(stoppages)</th>\n",
       "      <th>MAX(stoppages.COD_WO)</th>\n",
       "      <th>MAX(stoppages.IND_DURATION)</th>\n",
       "      <th>MAX(stoppages.IND_LOST_GEN)</th>\n",
       "      <th>MIN(stoppages.COD_WO)</th>\n",
       "      <th>MIN(stoppages.IND_DURATION)</th>\n",
       "      <th>...</th>\n",
       "      <th>TURBINE_PI_ID_TA00</th>\n",
       "      <th>TURBINE_LOCAL_ID_A0</th>\n",
       "      <th>TURBINE_SAP_COD_LOC000</th>\n",
       "      <th>DES_CORE_ELEMENT_T00</th>\n",
       "      <th>SITE_LOCATION</th>\n",
       "      <th>DES_CORE_PLANT_LOC</th>\n",
       "      <th>COD_PLANT_SAP_ABC</th>\n",
       "      <th>PI_COLLECTOR_SITE_NAME_LOC0</th>\n",
       "      <th>PI_LOCAL_SITE_NAME_LOC0</th>\n",
       "      <th>label</th>\n",
       "    </tr>\n",
       "    <tr>\n",
       "      <th>COD_ELEMENT</th>\n",
       "      <th>time</th>\n",
       "      <th></th>\n",
       "      <th></th>\n",
       "      <th></th>\n",
       "      <th></th>\n",
       "      <th></th>\n",
       "      <th></th>\n",
       "      <th></th>\n",
       "      <th></th>\n",
       "      <th></th>\n",
       "      <th></th>\n",
       "      <th></th>\n",
       "      <th></th>\n",
       "      <th></th>\n",
       "      <th></th>\n",
       "      <th></th>\n",
       "      <th></th>\n",
       "      <th></th>\n",
       "      <th></th>\n",
       "      <th></th>\n",
       "      <th></th>\n",
       "      <th></th>\n",
       "    </tr>\n",
       "  </thead>\n",
       "  <tbody>\n",
       "    <tr>\n",
       "      <th>0</th>\n",
       "      <th>2022-01-01</th>\n",
       "      <td>1</td>\n",
       "      <td>NaN</td>\n",
       "      <td>NaN</td>\n",
       "      <td>0.0</td>\n",
       "      <td>1</td>\n",
       "      <td>12345.0</td>\n",
       "      <td>NaN</td>\n",
       "      <td>NaN</td>\n",
       "      <td>12345.0</td>\n",
       "      <td>NaN</td>\n",
       "      <td>...</td>\n",
       "      <td>1</td>\n",
       "      <td>1</td>\n",
       "      <td>1</td>\n",
       "      <td>1</td>\n",
       "      <td>1</td>\n",
       "      <td>1</td>\n",
       "      <td>1</td>\n",
       "      <td>1</td>\n",
       "      <td>1</td>\n",
       "      <td>45801.0</td>\n",
       "    </tr>\n",
       "  </tbody>\n",
       "</table>\n",
       "<p>1 rows × 48 columns</p>\n",
       "</div>"
      ],
      "text/plain": [
       "                        COUNT(alarms)  MAX(alarms.IND_DURATION)  \\\n",
       "COD_ELEMENT time                                                  \n",
       "0           2022-01-01              1                       NaN   \n",
       "\n",
       "                        MIN(alarms.IND_DURATION)  SUM(alarms.IND_DURATION)  \\\n",
       "COD_ELEMENT time                                                             \n",
       "0           2022-01-01                       NaN                       0.0   \n",
       "\n",
       "                        COUNT(stoppages)  MAX(stoppages.COD_WO)  \\\n",
       "COD_ELEMENT time                                                  \n",
       "0           2022-01-01                 1                12345.0   \n",
       "\n",
       "                        MAX(stoppages.IND_DURATION)  \\\n",
       "COD_ELEMENT time                                      \n",
       "0           2022-01-01                          NaN   \n",
       "\n",
       "                        MAX(stoppages.IND_LOST_GEN)  MIN(stoppages.COD_WO)  \\\n",
       "COD_ELEMENT time                                                             \n",
       "0           2022-01-01                          NaN                12345.0   \n",
       "\n",
       "                        MIN(stoppages.IND_DURATION)  ...  TURBINE_PI_ID_TA00  \\\n",
       "COD_ELEMENT time                                     ...                       \n",
       "0           2022-01-01                          NaN  ...                   1   \n",
       "\n",
       "                        TURBINE_LOCAL_ID_A0  TURBINE_SAP_COD_LOC000  \\\n",
       "COD_ELEMENT time                                                      \n",
       "0           2022-01-01                    1                       1   \n",
       "\n",
       "                        DES_CORE_ELEMENT_T00  SITE_LOCATION  \\\n",
       "COD_ELEMENT time                                              \n",
       "0           2022-01-01                     1              1   \n",
       "\n",
       "                        DES_CORE_PLANT_LOC  COD_PLANT_SAP_ABC  \\\n",
       "COD_ELEMENT time                                                \n",
       "0           2022-01-01                   1                  1   \n",
       "\n",
       "                        PI_COLLECTOR_SITE_NAME_LOC0  PI_LOCAL_SITE_NAME_LOC0  \\\n",
       "COD_ELEMENT time                                                               \n",
       "0           2022-01-01                            1                        1   \n",
       "\n",
       "                          label  \n",
       "COD_ELEMENT time                 \n",
       "0           2022-01-01  45801.0  \n",
       "\n",
       "[1 rows x 48 columns]"
      ]
     },
     "execution_count": 12,
     "metadata": {},
     "output_type": "execute_result"
    }
   ],
   "source": [
    "feature_matrix"
   ]
  }
 ],
 "metadata": {
  "kernelspec": {
   "display_name": "venv",
   "language": "python",
   "name": "python3"
  },
  "language_info": {
   "codemirror_mode": {
    "name": "ipython",
    "version": 3
   },
   "file_extension": ".py",
   "mimetype": "text/x-python",
   "name": "python",
   "nbconvert_exporter": "python",
   "pygments_lexer": "ipython3",
   "version": "3.8.0"
  }
 },
 "nbformat": 4,
 "nbformat_minor": 5
}
