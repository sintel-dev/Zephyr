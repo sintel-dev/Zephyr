{
 "cells": [
  {
   "cell_type": "markdown",
   "id": "d4f4e2b7",
   "metadata": {},
   "source": [
    "# Modeling\n",
    "\n",
    "In this tutorial, we will show you how to use `zephyr_ml` to train models using the `Zephyr` class. This tutorial builds on top of the previous one where we create EntitySets, generate label times, and do automated feature engineering. To do any of these previous steps, please refer to `feature_engineering` notebook.\n",
    "\n",
    "## 1) Load the Feature Matrix\n",
    "\n",
    "Load the feature matrix which is the result of the `feature_engineering` notebook. For the purpose of this tutorial, we use a dummy feature matrix stored in the `data/` folder."
   ]
  },
  {
   "cell_type": "code",
   "execution_count": 1,
   "id": "4a6724ad",
   "metadata": {},
   "outputs": [],
   "source": [
    "import pandas as pd\n",
    "\n",
    "feature_matrix = pd.read_csv('data/feature_matrix.csv')"
   ]
  },
  {
   "cell_type": "markdown",
   "id": "02e2c90a",
   "metadata": {},
   "source": [
    "## 2) Preparing Model Inputs\n",
    "\n",
    "Prepare the data for modeling. Depending on the data, you might need to: normalize the data, impute missing values, create one-hot encodings for categorical values, etc.\n",
    "\n",
    "In this part of the notebook, we do the following:\n",
    "* create `X` and `y` variables from the feature matrix\n",
    "* impute missing values using a SimpleImpute\n",
    "* split the data into training and testing"
   ]
  },
  {
   "cell_type": "code",
   "execution_count": 2,
   "id": "20da6581",
   "metadata": {},
   "outputs": [],
   "source": [
    "from sklearn.impute import SimpleImputer\n",
    "from sklearn.model_selection import train_test_split\n",
    "\n",
    "# pop the target labels\n",
    "y = list(feature_matrix.pop('label'))\n",
    "X = feature_matrix.values\n",
    "\n",
    "# impute missing values\n",
    "imputer = SimpleImputer()\n",
    "X = imputer.fit_transform(X)\n",
    "\n",
    "# create train and test splits\n",
    "X_train, X_test, y_train, y_test = train_test_split(X, y, test_size=0.2, random_state=33)"
   ]
  },
  {
   "cell_type": "markdown",
   "id": "32afe1aa",
   "metadata": {},
   "source": [
    "## 3) Train a Model\n",
    "\n",
    "We train a model using the `Zephyr` interface where you can train, infer, and evaluate a pipeline.\n",
    "In this notebook, we use an `xgb_classifier` pipeline which consists of two primitives:\n",
    "\n",
    "```\n",
    "        \"xgboost.XGBClassifier\"\n",
    "        \"zephyr_ml.primitives.postprocessing.FindThreshold\"\n",
    "```\n",
    "\n",
    "An `XGBClassifier` primitive is an XGB model that returns the probability of each class, and `FindThreshold` primitive creates binary labels from the output of the XGB model by choosing a threshold that produces the best metric value (F1 Score by default)\n",
    "\n",
    "To use a pipeline, we simply pass the name of the pipeline to `Zephyr`\n",
    "Optionally, you can change the default settings of the primitive by passing a hyperparameter dictionary. For example, we can change the number of trees in the classifier to be 50 instead of the default value (100)."
   ]
  },
  {
   "cell_type": "code",
   "execution_count": 3,
   "id": "b02986d9",
   "metadata": {},
   "outputs": [],
   "source": [
    "from zephyr_ml import Zephyr\n",
    "\n",
    "hyperparameters = {\n",
    "    \"xgboost.XGBClassifier#1\": {\n",
    "        \"n_estimators\": 50\n",
    "    }\n",
    "}\n",
    "\n",
    "zephyr = Zephyr('xgb_classifier', hyperparameters)"
   ]
  },
  {
   "cell_type": "markdown",
   "id": "a1297396",
   "metadata": {},
   "source": [
    "Then, training a pipeline can be done using the `fit` function and passing the training data"
   ]
  },
  {
   "cell_type": "code",
   "execution_count": 4,
   "id": "442c5258",
   "metadata": {},
   "outputs": [],
   "source": [
    "zephyr.fit(X_train, y_train)"
   ]
  },
  {
   "cell_type": "markdown",
   "id": "8d4bf2cc",
   "metadata": {},
   "source": [
    "Now that the pipeline is trained, we can use it to predict the values of the test data using `predict` function"
   ]
  },
  {
   "cell_type": "code",
   "execution_count": 5,
   "id": "83814cd8",
   "metadata": {},
   "outputs": [
    {
     "data": {
      "text/plain": [
       "[1, 0, 1]"
      ]
     },
     "execution_count": 5,
     "metadata": {},
     "output_type": "execute_result"
    }
   ],
   "source": [
    "zephyr.predict(X_test)"
   ]
  },
  {
   "cell_type": "markdown",
   "id": "15f257eb",
   "metadata": {},
   "source": [
    "Lastly, we can evaluate the performance of the pipeline using `evaluate` function"
   ]
  },
  {
   "cell_type": "code",
   "execution_count": 6,
   "id": "191a123a",
   "metadata": {},
   "outputs": [
    {
     "data": {
      "text/plain": [
       "accuracy     0.666667\n",
       "f1           0.666667\n",
       "recall       1.000000\n",
       "precision    0.500000\n",
       "dtype: float64"
      ]
     },
     "execution_count": 6,
     "metadata": {},
     "output_type": "execute_result"
    }
   ],
   "source": [
    "zephyr.evaluate(X_test, y_test)"
   ]
  }
 ],
 "metadata": {
  "interpreter": {
   "hash": "2d6fabd7bf745a21519616ebdce3b2479184204dadf576aa19f086ff78438203"
  },
  "kernelspec": {
   "display_name": "Python 3 (ipykernel)",
   "language": "python",
   "name": "python3"
  },
  "language_info": {
   "codemirror_mode": {
    "name": "ipython",
    "version": 3
   },
   "file_extension": ".py",
   "mimetype": "text/x-python",
   "name": "python",
   "nbconvert_exporter": "python",
   "pygments_lexer": "ipython3",
   "version": "3.8.16"
  }
 },
 "nbformat": 4,
 "nbformat_minor": 5
}
